{
 "cells": [
  {
   "cell_type": "code",
   "execution_count": 1,
   "id": "515e84cf-2e40-460d-a81d-046c20454670",
   "metadata": {},
   "outputs": [],
   "source": [
    "import pandas as pd\n",
    "import matplotlib.pyplot as plt\n",
    "import numpy as np\n",
    "import torch,torchvision\n",
    "from torch.nn import *\n",
    "from torch.optim import *\n",
    "import wandb\n",
    "import cv2\n",
    "from tqdm import tqdm\n",
    "from sklearn.preprocessing import (\n",
    "    StandardScaler,\n",
    "    RobustScaler,\n",
    "    MinMaxScaler,\n",
    "    MaxAbsScaler,\n",
    "    OneHotEncoder,\n",
    "    LabelEncoder,\n",
    "    Normalizer,\n",
    ")\n",
    "device = 'cuda'\n",
    "PROJECT_NAME = 'Microsoft-Stock-Price-Prediction-Learning-RNN'\n",
    "data = pd.read_csv('./data/data.csv')"
   ]
  },
  {
   "cell_type": "code",
   "execution_count": 2,
   "id": "33150b84-ca3f-4853-824c-651b8614c8ef",
   "metadata": {},
   "outputs": [
    {
     "data": {
      "text/plain": [
       "1511"
      ]
     },
     "execution_count": 2,
     "metadata": {},
     "output_type": "execute_result"
    }
   ],
   "source": [
    "len(data)"
   ]
  },
  {
   "cell_type": "code",
   "execution_count": 3,
   "id": "3a8482bf-e806-4da9-8c2f-6d31f182a4e9",
   "metadata": {},
   "outputs": [
    {
     "data": {
      "text/html": [
       "<div>\n",
       "<style scoped>\n",
       "    .dataframe tbody tr th:only-of-type {\n",
       "        vertical-align: middle;\n",
       "    }\n",
       "\n",
       "    .dataframe tbody tr th {\n",
       "        vertical-align: top;\n",
       "    }\n",
       "\n",
       "    .dataframe thead th {\n",
       "        text-align: right;\n",
       "    }\n",
       "</style>\n",
       "<table border=\"1\" class=\"dataframe\">\n",
       "  <thead>\n",
       "    <tr style=\"text-align: right;\">\n",
       "      <th></th>\n",
       "      <th>Date</th>\n",
       "      <th>Open</th>\n",
       "      <th>High</th>\n",
       "      <th>Low</th>\n",
       "      <th>Close</th>\n",
       "      <th>Volume</th>\n",
       "    </tr>\n",
       "  </thead>\n",
       "  <tbody>\n",
       "    <tr>\n",
       "      <th>0</th>\n",
       "      <td>4/1/2015 16:00:00</td>\n",
       "      <td>40.60</td>\n",
       "      <td>40.76</td>\n",
       "      <td>40.31</td>\n",
       "      <td>40.72</td>\n",
       "      <td>36865322</td>\n",
       "    </tr>\n",
       "    <tr>\n",
       "      <th>1</th>\n",
       "      <td>4/2/2015 16:00:00</td>\n",
       "      <td>40.66</td>\n",
       "      <td>40.74</td>\n",
       "      <td>40.12</td>\n",
       "      <td>40.29</td>\n",
       "      <td>37487476</td>\n",
       "    </tr>\n",
       "    <tr>\n",
       "      <th>2</th>\n",
       "      <td>4/6/2015 16:00:00</td>\n",
       "      <td>40.34</td>\n",
       "      <td>41.78</td>\n",
       "      <td>40.18</td>\n",
       "      <td>41.55</td>\n",
       "      <td>39223692</td>\n",
       "    </tr>\n",
       "    <tr>\n",
       "      <th>3</th>\n",
       "      <td>4/7/2015 16:00:00</td>\n",
       "      <td>41.61</td>\n",
       "      <td>41.91</td>\n",
       "      <td>41.31</td>\n",
       "      <td>41.53</td>\n",
       "      <td>28809375</td>\n",
       "    </tr>\n",
       "    <tr>\n",
       "      <th>4</th>\n",
       "      <td>4/8/2015 16:00:00</td>\n",
       "      <td>41.48</td>\n",
       "      <td>41.69</td>\n",
       "      <td>41.04</td>\n",
       "      <td>41.42</td>\n",
       "      <td>24753438</td>\n",
       "    </tr>\n",
       "  </tbody>\n",
       "</table>\n",
       "</div>"
      ],
      "text/plain": [
       "                Date   Open   High    Low  Close    Volume\n",
       "0  4/1/2015 16:00:00  40.60  40.76  40.31  40.72  36865322\n",
       "1  4/2/2015 16:00:00  40.66  40.74  40.12  40.29  37487476\n",
       "2  4/6/2015 16:00:00  40.34  41.78  40.18  41.55  39223692\n",
       "3  4/7/2015 16:00:00  41.61  41.91  41.31  41.53  28809375\n",
       "4  4/8/2015 16:00:00  41.48  41.69  41.04  41.42  24753438"
      ]
     },
     "execution_count": 3,
     "metadata": {},
     "output_type": "execute_result"
    }
   ],
   "source": [
    "data.head()"
   ]
  },
  {
   "cell_type": "code",
   "execution_count": 4,
   "id": "ec6f5f6a-0496-4586-b933-c0e309cfbe95",
   "metadata": {},
   "outputs": [],
   "source": [
    "data = data['Open']"
   ]
  },
  {
   "cell_type": "code",
   "execution_count": 5,
   "id": "bc907db4-2836-400a-8020-6cf097dc772e",
   "metadata": {},
   "outputs": [],
   "source": [
    "data = np.array(data.tolist()).reshape(1,-1)"
   ]
  },
  {
   "cell_type": "code",
   "execution_count": 6,
   "id": "46218eb3-1d31-469a-a9d8-42477699f6c6",
   "metadata": {},
   "outputs": [],
   "source": [
    "data_input = torch.from_numpy(data[:3,:-1]).float().to(device)\n",
    "data_target = torch.from_numpy(data[:3,1:]).float().to(device)"
   ]
  },
  {
   "cell_type": "code",
   "execution_count": 7,
   "id": "6c29cf35-412f-4787-a7a6-b9fdde278fb6",
   "metadata": {},
   "outputs": [
    {
     "data": {
      "text/plain": [
       "tensor([[ 40.6000,  40.6600,  40.3400,  ..., 231.5500, 236.5900, 233.5300]],\n",
       "       device='cuda:0')"
      ]
     },
     "execution_count": 7,
     "metadata": {},
     "output_type": "execute_result"
    }
   ],
   "source": [
    "data_input"
   ]
  },
  {
   "cell_type": "code",
   "execution_count": 8,
   "id": "bff38b49-46b9-4fca-a1f2-9d06e14d41ac",
   "metadata": {},
   "outputs": [
    {
     "data": {
      "text/plain": [
       "tensor([[ 40.6600,  40.3400,  41.6100,  ..., 236.5900, 233.5300, 232.9100]],\n",
       "       device='cuda:0')"
      ]
     },
     "execution_count": 8,
     "metadata": {},
     "output_type": "execute_result"
    }
   ],
   "source": [
    "data_target"
   ]
  },
  {
   "cell_type": "code",
   "execution_count": 9,
   "id": "056da510-ecde-45d2-9f1b-ff0c1e9e1daa",
   "metadata": {},
   "outputs": [],
   "source": [
    "class Model(Module):\n",
    "    def __init__(self,hidden=128):\n",
    "        super().__init__()\n",
    "        self.hidden = hidden\n",
    "        self.lstm1 = LSTMCell(1,self.hidden).to(device)\n",
    "        self.lstm2 = LSTMCell(self.hidden,self.hidden).to(device)\n",
    "        self.lstm3 = LSTMCell(self.hidden,self.hidden).to(device)\n",
    "        self.linear1 = Linear(self.hidden,1).to(device)\n",
    "    \n",
    "    def forward(self,X,future=0):\n",
    "        preds = []\n",
    "        batch_size = X.size(0)\n",
    "        h_t1 = torch.zeros(batch_size,self.hidden,dtype=torch.float32)\n",
    "        c_t1 = torch.zeros(batch_size,self.hidden,dtype=torch.float32)\n",
    "        h_t2 = torch.zeros(batch_size,self.hidden,dtype=torch.float32)\n",
    "        c_t2 = torch.zeros(batch_size,self.hidden,dtype=torch.float32)\n",
    "        h_t3 = torch.zeros(batch_size,self.hidden,dtype=torch.float32)\n",
    "        c_t3 = torch.zeros(batch_size,self.hidden,dtype=torch.float32)\n",
    "        h_t1 = h_t1.to(device)\n",
    "        c_t1 = h_t1.to(device)\n",
    "        h_t2 = h_t2.to(device)\n",
    "        c_t2 = h_t2.to(device)\n",
    "        h_t3 = h_t3.to(device)\n",
    "        c_t3 = h_t3.to(device)\n",
    "        for X_batch in X.split(1,dim=1):\n",
    "            X_batch = X_batch.to(device)\n",
    "            h_t1,c_t1 = self.lstm1(X_batch,(h_t1,c_t1))\n",
    "            h_t1 = h_t1.to(device)\n",
    "            c_t1 = h_t1.to(device)\n",
    "            h_t2,c_t2 = self.lstm2(h_t1,(h_t2,c_t2))\n",
    "            h_t2 = h_t2.to(device)\n",
    "            c_t2 = h_t2.to(device)\n",
    "            h_t3,c_t3 = self.lstm3(h_t2,(h_t3,c_t3))\n",
    "            h_t3 = h_t3.to(device)\n",
    "            c_t3 = h_t3.to(device)\n",
    "            pred = self.linear1(h_t3)\n",
    "            preds.append(pred)\n",
    "        for i in range(future):\n",
    "            X_batch = X_batch.to(device)\n",
    "            h_t1,c_t1 = self.lstm1(X_batch,(h_t1,c_t1))\n",
    "            h_t1 = h_t1.to(device)\n",
    "            c_t1 = h_t1.to(device)\n",
    "            h_t2,c_t2 = self.lstm2(h_t1,(h_t2,c_t2))\n",
    "            h_t2 = h_t2.to(device)\n",
    "            c_t2 = h_t2.to(device)\n",
    "            h_t3,c_t3 = self.lstm3(h_t2,(h_t3,c_t3))\n",
    "            h_t3 = h_t3.to(device)\n",
    "            c_t3 = h_t3.to(device)\n",
    "            pred = self.linear1(h_t3)\n",
    "            preds.append(pred)\n",
    "        preds = torch.cat(preds,dim=1)\n",
    "        return preds"
   ]
  },
  {
   "cell_type": "code",
   "execution_count": 10,
   "id": "cf557d4f-f5d3-4870-aaa7-74549538a4d3",
   "metadata": {},
   "outputs": [],
   "source": [
    "model = Model().to(device)\n",
    "optimizer = LBFGS(model.parameters(),lr=0.8)\n",
    "criterion = MSELoss()"
   ]
  },
  {
   "cell_type": "code",
   "execution_count": 11,
   "id": "cfac2447-ecb5-4bbb-8973-b682cb4fe6c0",
   "metadata": {},
   "outputs": [],
   "source": [
    "epochs = 100"
   ]
  },
  {
   "cell_type": "code",
   "execution_count": 12,
   "id": "b1dc302f-731c-4c6c-ba15-68c6375e7f08",
   "metadata": {},
   "outputs": [],
   "source": [
    "# wandb.init(project=PROJECT_NAME,name='test')\n",
    "# for _ in tqdm(range(epochs)):\n",
    "#     def closure():\n",
    "#         optimizer.zero_grad()\n",
    "#         preds = model(data_input)\n",
    "#         loss = criterion(preds,data_target)\n",
    "#         wandb.log({'Loss':loss.item()})\n",
    "#         loss.backward()\n",
    "#         return loss\n",
    "#     optimizer.step(closure)\n",
    "#     with torch.no_grad():\n",
    "#         future = 100\n",
    "#         preds = model(data_input,future)\n",
    "#         loss = criterion(preds[:,:-future],data_target)\n",
    "#         wandb.log({'Val Loss':loss.item()})\n",
    "#         preds = preds.cpu().detach().numpy()\n",
    "#     plt.figure(figsize=(12,7))\n",
    "#     batch_size = data_input.shape[1]\n",
    "#     def draw(y):\n",
    "#         plt.plot(np.arange(batch_size),data_target.cpu().view(-1),'b')\n",
    "#         plt.plot(np.arange(batch_size,batch_size+future),y[batch_size:],'r')\n",
    "#     draw(preds[0])\n",
    "#     plt.savefig('./preds/img.png')\n",
    "#     plt.close()\n",
    "#     wandb.log({'Img':wandb.Image(cv2.imread('./preds/img.png'))})\n",
    "# wandb.finish()"
   ]
  },
  {
   "cell_type": "code",
   "execution_count": 13,
   "id": "a9f8c31b-d18d-477c-8750-acfaeecc4cc4",
   "metadata": {},
   "outputs": [],
   "source": [
    "pres = [\n",
    "    StandardScaler,\n",
    "    RobustScaler,\n",
    "    MinMaxScaler,\n",
    "    MaxAbsScaler,\n",
    "    OneHotEncoder,\n",
    "    LabelEncoder,\n",
    "    Normalizer\n",
    "]"
   ]
  },
  {
   "cell_type": "code",
   "execution_count": 14,
   "id": "828d47f2-e6fd-47e1-baa0-36f8347bd613",
   "metadata": {},
   "outputs": [],
   "source": [
    "lrs = [0.1,0.2,0.3,0.4,0.5,0.6,0.7,0.8,0.9]"
   ]
  },
  {
   "cell_type": "code",
   "execution_count": 15,
   "id": "41d2a313-6326-4f00-8518-ed170b725fa0",
   "metadata": {},
   "outputs": [],
   "source": [
    "optimizers = [Adam,AdamW,Adamax,SGD,LBFGS]"
   ]
  },
  {
   "cell_type": "code",
   "execution_count": 16,
   "id": "db8cda9d-1c1f-44be-b671-1db343081702",
   "metadata": {},
   "outputs": [],
   "source": [
    "criterions = [MSELoss(),L1Loss()]"
   ]
  },
  {
   "cell_type": "code",
   "execution_count": 17,
   "id": "1f40562c-7851-40af-a8e0-deef42453bc3",
   "metadata": {},
   "outputs": [],
   "source": [
    "hiddens = [16,32,64,128,256,512,1024]"
   ]
  },
  {
   "cell_type": "code",
   "execution_count": 18,
   "id": "3d964e63-799c-4936-b567-44b4e6c19f86",
   "metadata": {},
   "outputs": [],
   "source": [
    "# I dont have time to tune this project so If you want to you can do that really easyly "
   ]
  },
  {
   "cell_type": "code",
   "execution_count": null,
   "id": "8c7a3dae-0e16-4736-a451-4e46b8f8dcee",
   "metadata": {},
   "outputs": [],
   "source": []
  },
  {
   "cell_type": "code",
   "execution_count": null,
   "id": "0f46c344-05e4-4474-83fe-7c9e9df19fa9",
   "metadata": {},
   "outputs": [],
   "source": []
  },
  {
   "cell_type": "code",
   "execution_count": null,
   "id": "2fba3bf2-f312-4eaa-a0a0-c23374ea2f4e",
   "metadata": {},
   "outputs": [],
   "source": []
  },
  {
   "cell_type": "code",
   "execution_count": null,
   "id": "96bff78f-fb54-41e3-9a92-189a9089b6dc",
   "metadata": {},
   "outputs": [],
   "source": []
  }
 ],
 "metadata": {
  "kernelspec": {
   "display_name": "Python 3.7.3 64-bit ('base': conda)",
   "language": "python",
   "name": "python373jvsc74a57bd0210f9608a45c0278a93c9e0b10db32a427986ab48cfc0d20c139811eb78c4bbc"
  },
  "language_info": {
   "codemirror_mode": {
    "name": "ipython",
    "version": 3
   },
   "file_extension": ".py",
   "mimetype": "text/x-python",
   "name": "python",
   "nbconvert_exporter": "python",
   "pygments_lexer": "ipython3",
   "version": "3.7.7"
  }
 },
 "nbformat": 4,
 "nbformat_minor": 5
}
